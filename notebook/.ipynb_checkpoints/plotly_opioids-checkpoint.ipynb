{
 "cells": [
  {
   "cell_type": "code",
   "execution_count": 1,
   "metadata": {},
   "outputs": [],
   "source": [
    "import pandas as pd\n",
    "import plotly.express as px"
   ]
  },
  {
   "cell_type": "code",
   "execution_count": 3,
   "metadata": {},
   "outputs": [],
   "source": [
    "opioids = pd.read_csv('../data/opioid_county_pivoted.csv')"
   ]
  },
  {
   "cell_type": "code",
   "execution_count": 4,
   "metadata": {},
   "outputs": [
    {
     "ename": "ValueError",
     "evalue": "Value of 'y' is not the name of a column in 'data_frame'. Expected one of ['county', 'Percent_Acetaminophen_codeine', 'Percent_ACD', 'Percent_Buprenorphine', 'Percent_BACC', 'Percent_Butorphanol_tartrate', 'Percent_Codeine_sulfate', 'Percent_CBAC', 'Percent_Fentanyl', 'Percent_Hydrocodone_Bitartrate', 'Percent_Hydrocodone_Acetaminophen', 'Percent_Hydrocodone_Ibuprofen', 'Percent_Hydromorphone', 'Percent_Meperidine', 'Percent_Methadone', 'Percent_Morphine', 'Percent_Morphine_Naltrexone', 'Percent_Oxycodone', 'Percent_Oxycodone_Acetaminophen', 'Percent_Oxycodone_Aspirin', 'Percent_Oxycodone_Myristate', 'Percent_Oxymorphone', 'Percent_Pentazocine_Naloxone', 'Percent_Tapentadol', 'Percent_Tramadol', 'Percent_Tramadol_Acetaminophen'] but received: ['Percent_Acetaminophen_codeine', 'Percent_ACD', 'Percent_Buprenorphine', 'Percent_BACC', 'Percent_Butorphanol_tartrate', 'Percent_Codeine_sulfate', 'Percent_CBAC', 'Percent_Fentanyl', 'Percent_Hydrocodone_Bitartrate', 'Percent_Hydrocodone_Acetaminophen', 'Percent_Hydrocodone_Ibuprofen', 'Percent_Hydromorphone', 'Percent_Meperidine', 'Percent_Methadone', 'Percent_Morphine', 'Percent_Morphine_Naltrexone', 'Percent_Oxycodone', 'Percent_Oxycodone_Acetaminophen', 'Percent_Oxycodone_Aspirin', 'Percent_Oxycodone_Myristate', 'Percent_Oxymorphone', 'Percent_Pentazocine_Naloxone', 'Percent_Tapentadol', 'Percent_Tramadol', 'Percent_Tramadol_Acetaminophen']",
     "output_type": "error",
     "traceback": [
      "\u001b[0;31m---------------------------------------------------------------------------\u001b[0m",
      "\u001b[0;31mValueError\u001b[0m                                Traceback (most recent call last)",
      "\u001b[0;32m<ipython-input-4-c95a455480b0>\u001b[0m in \u001b[0;36m<module>\u001b[0;34m\u001b[0m\n\u001b[0;32m----> 1\u001b[0;31m \u001b[0mfig\u001b[0m \u001b[0;34m=\u001b[0m \u001b[0mpx\u001b[0m\u001b[0;34m.\u001b[0m\u001b[0mbar\u001b[0m\u001b[0;34m(\u001b[0m\u001b[0mopioids\u001b[0m\u001b[0;34m,\u001b[0m \u001b[0mx\u001b[0m\u001b[0;34m=\u001b[0m\u001b[0;34m\"county\"\u001b[0m\u001b[0;34m,\u001b[0m \u001b[0my\u001b[0m\u001b[0;34m=\u001b[0m\u001b[0;34m[\u001b[0m\u001b[0mx\u001b[0m \u001b[0;32mfor\u001b[0m \u001b[0mx\u001b[0m \u001b[0;32min\u001b[0m \u001b[0mopioids\u001b[0m\u001b[0;34m.\u001b[0m\u001b[0mcolumns\u001b[0m \u001b[0;32mif\u001b[0m \u001b[0mx\u001b[0m \u001b[0;34m!=\u001b[0m \u001b[0;34m'county'\u001b[0m\u001b[0;34m]\u001b[0m\u001b[0;34m)\u001b[0m\u001b[0;34m\u001b[0m\u001b[0;34m\u001b[0m\u001b[0m\n\u001b[0m\u001b[1;32m      2\u001b[0m \u001b[0mfig\u001b[0m\u001b[0;34m.\u001b[0m\u001b[0mshow\u001b[0m\u001b[0;34m(\u001b[0m\u001b[0;34m)\u001b[0m\u001b[0;34m\u001b[0m\u001b[0;34m\u001b[0m\u001b[0m\n",
      "\u001b[0;32m~/anaconda3/lib/python3.7/site-packages/plotly/express/_chart_types.py\u001b[0m in \u001b[0;36mbar\u001b[0;34m(data_frame, x, y, color, facet_row, facet_col, hover_name, hover_data, text, error_x, error_x_minus, error_y, error_y_minus, animation_frame, animation_group, category_orders, labels, color_discrete_sequence, color_discrete_map, color_continuous_scale, range_color, color_continuous_midpoint, opacity, orientation, barmode, log_x, log_y, range_x, range_y, title, template, width, height)\u001b[0m\n\u001b[1;32m    296\u001b[0m         \u001b[0mconstructor\u001b[0m\u001b[0;34m=\u001b[0m\u001b[0mgo\u001b[0m\u001b[0;34m.\u001b[0m\u001b[0mBar\u001b[0m\u001b[0;34m,\u001b[0m\u001b[0;34m\u001b[0m\u001b[0;34m\u001b[0m\u001b[0m\n\u001b[1;32m    297\u001b[0m         \u001b[0mtrace_patch\u001b[0m\u001b[0;34m=\u001b[0m\u001b[0mdict\u001b[0m\u001b[0;34m(\u001b[0m\u001b[0morientation\u001b[0m\u001b[0;34m=\u001b[0m\u001b[0morientation\u001b[0m\u001b[0;34m,\u001b[0m \u001b[0mtextposition\u001b[0m\u001b[0;34m=\u001b[0m\u001b[0;34m\"auto\"\u001b[0m\u001b[0;34m)\u001b[0m\u001b[0;34m,\u001b[0m\u001b[0;34m\u001b[0m\u001b[0;34m\u001b[0m\u001b[0m\n\u001b[0;32m--> 298\u001b[0;31m         \u001b[0mlayout_patch\u001b[0m\u001b[0;34m=\u001b[0m\u001b[0mdict\u001b[0m\u001b[0;34m(\u001b[0m\u001b[0mbarmode\u001b[0m\u001b[0;34m=\u001b[0m\u001b[0mbarmode\u001b[0m\u001b[0;34m)\u001b[0m\u001b[0;34m,\u001b[0m\u001b[0;34m\u001b[0m\u001b[0;34m\u001b[0m\u001b[0m\n\u001b[0m\u001b[1;32m    299\u001b[0m     )\n\u001b[1;32m    300\u001b[0m \u001b[0;34m\u001b[0m\u001b[0m\n",
      "\u001b[0;32m~/anaconda3/lib/python3.7/site-packages/plotly/express/_core.py\u001b[0m in \u001b[0;36mmake_figure\u001b[0;34m(args, constructor, trace_patch, layout_patch)\u001b[0m\n\u001b[1;32m    861\u001b[0m \u001b[0;34m\u001b[0m\u001b[0m\n\u001b[1;32m    862\u001b[0m     trace_specs, grouped_mappings, sizeref, show_colorbar = infer_config(\n\u001b[0;32m--> 863\u001b[0;31m         \u001b[0margs\u001b[0m\u001b[0;34m,\u001b[0m \u001b[0mconstructor\u001b[0m\u001b[0;34m,\u001b[0m \u001b[0mtrace_patch\u001b[0m\u001b[0;34m\u001b[0m\u001b[0;34m\u001b[0m\u001b[0m\n\u001b[0m\u001b[1;32m    864\u001b[0m     )\n\u001b[1;32m    865\u001b[0m     \u001b[0mgrouper\u001b[0m \u001b[0;34m=\u001b[0m \u001b[0;34m[\u001b[0m\u001b[0mx\u001b[0m\u001b[0;34m.\u001b[0m\u001b[0mgrouper\u001b[0m \u001b[0;32mor\u001b[0m \u001b[0mone_group\u001b[0m \u001b[0;32mfor\u001b[0m \u001b[0mx\u001b[0m \u001b[0;32min\u001b[0m \u001b[0mgrouped_mappings\u001b[0m\u001b[0;34m]\u001b[0m \u001b[0;32mor\u001b[0m \u001b[0;34m[\u001b[0m\u001b[0mone_group\u001b[0m\u001b[0;34m]\u001b[0m\u001b[0;34m\u001b[0m\u001b[0;34m\u001b[0m\u001b[0m\n",
      "\u001b[0;32m~/anaconda3/lib/python3.7/site-packages/plotly/express/_core.py\u001b[0m in \u001b[0;36minfer_config\u001b[0;34m(args, constructor, trace_patch)\u001b[0m\n\u001b[1;32m    743\u001b[0m                         \u001b[0;34m\"%s of '%s' is not the name of a column in 'data_frame'. \"\u001b[0m\u001b[0;34m\u001b[0m\u001b[0;34m\u001b[0m\u001b[0m\n\u001b[1;32m    744\u001b[0m                         \u001b[0;34m\"Expected one of %s but received: %s\"\u001b[0m\u001b[0;34m\u001b[0m\u001b[0;34m\u001b[0m\u001b[0m\n\u001b[0;32m--> 745\u001b[0;31m                         \u001b[0;34m%\u001b[0m \u001b[0;34m(\u001b[0m\u001b[0mvalue_str\u001b[0m\u001b[0;34m,\u001b[0m \u001b[0mattr\u001b[0m\u001b[0;34m,\u001b[0m \u001b[0mstr\u001b[0m\u001b[0;34m(\u001b[0m\u001b[0mlist\u001b[0m\u001b[0;34m(\u001b[0m\u001b[0mdf_columns\u001b[0m\u001b[0;34m)\u001b[0m\u001b[0;34m)\u001b[0m\u001b[0;34m,\u001b[0m \u001b[0mstr\u001b[0m\u001b[0;34m(\u001b[0m\u001b[0mmaybe_col\u001b[0m\u001b[0;34m)\u001b[0m\u001b[0;34m)\u001b[0m\u001b[0;34m\u001b[0m\u001b[0;34m\u001b[0m\u001b[0m\n\u001b[0m\u001b[1;32m    746\u001b[0m                     )\n\u001b[1;32m    747\u001b[0m \u001b[0;34m\u001b[0m\u001b[0m\n",
      "\u001b[0;31mValueError\u001b[0m: Value of 'y' is not the name of a column in 'data_frame'. Expected one of ['county', 'Percent_Acetaminophen_codeine', 'Percent_ACD', 'Percent_Buprenorphine', 'Percent_BACC', 'Percent_Butorphanol_tartrate', 'Percent_Codeine_sulfate', 'Percent_CBAC', 'Percent_Fentanyl', 'Percent_Hydrocodone_Bitartrate', 'Percent_Hydrocodone_Acetaminophen', 'Percent_Hydrocodone_Ibuprofen', 'Percent_Hydromorphone', 'Percent_Meperidine', 'Percent_Methadone', 'Percent_Morphine', 'Percent_Morphine_Naltrexone', 'Percent_Oxycodone', 'Percent_Oxycodone_Acetaminophen', 'Percent_Oxycodone_Aspirin', 'Percent_Oxycodone_Myristate', 'Percent_Oxymorphone', 'Percent_Pentazocine_Naloxone', 'Percent_Tapentadol', 'Percent_Tramadol', 'Percent_Tramadol_Acetaminophen'] but received: ['Percent_Acetaminophen_codeine', 'Percent_ACD', 'Percent_Buprenorphine', 'Percent_BACC', 'Percent_Butorphanol_tartrate', 'Percent_Codeine_sulfate', 'Percent_CBAC', 'Percent_Fentanyl', 'Percent_Hydrocodone_Bitartrate', 'Percent_Hydrocodone_Acetaminophen', 'Percent_Hydrocodone_Ibuprofen', 'Percent_Hydromorphone', 'Percent_Meperidine', 'Percent_Methadone', 'Percent_Morphine', 'Percent_Morphine_Naltrexone', 'Percent_Oxycodone', 'Percent_Oxycodone_Acetaminophen', 'Percent_Oxycodone_Aspirin', 'Percent_Oxycodone_Myristate', 'Percent_Oxymorphone', 'Percent_Pentazocine_Naloxone', 'Percent_Tapentadol', 'Percent_Tramadol', 'Percent_Tramadol_Acetaminophen']"
     ]
    }
   ],
   "source": [
    "fig = px.bar(opioids, x=\"county\", y=[x for x in opioids.columns if x != 'county'])\n",
    "fig.show()"
   ]
  },
  {
   "cell_type": "code",
   "execution_count": null,
   "metadata": {},
   "outputs": [],
   "source": []
  }
 ],
 "metadata": {
  "kernelspec": {
   "display_name": "Python 3",
   "language": "python",
   "name": "python3"
  },
  "language_info": {
   "codemirror_mode": {
    "name": "ipython",
    "version": 3
   },
   "file_extension": ".py",
   "mimetype": "text/x-python",
   "name": "python",
   "nbconvert_exporter": "python",
   "pygments_lexer": "ipython3",
   "version": "3.7.3"
  }
 },
 "nbformat": 4,
 "nbformat_minor": 4
}
